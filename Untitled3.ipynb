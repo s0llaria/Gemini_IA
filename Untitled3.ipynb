{
  "nbformat": 4,
  "nbformat_minor": 0,
  "metadata": {
    "colab": {
      "provenance": [],
      "authorship_tag": "ABX9TyMjEij5f38O2h61UFsHShx1",
      "include_colab_link": true
    },
    "kernelspec": {
      "name": "python3",
      "display_name": "Python 3"
    },
    "language_info": {
      "name": "python"
    }
  },
  "cells": [
    {
      "cell_type": "markdown",
      "metadata": {
        "id": "view-in-github",
        "colab_type": "text"
      },
      "source": [
        "<a href=\"https://colab.research.google.com/github/s0llaria/Gemini_IA/blob/main/Untitled3.ipynb\" target=\"_parent\"><img src=\"https://colab.research.google.com/assets/colab-badge.svg\" alt=\"Open In Colab\"/></a>"
      ]
    },
    {
      "cell_type": "code",
      "source": [
        "# Lista para armazenar os nomes dos estudantes\n",
        "estudantes = []\n",
        "\n",
        "def menu_principal():\n",
        "    print(\"\\n***** MENU PRINCIPAL *****\")\n",
        "    print(\"(1) Estudantes\")\n",
        "    print(\"(2) Disciplinas\")\n",
        "    print(\"(3) Professores\")\n",
        "    print(\"(4) Turmas\")\n",
        "    print(\"(5) Matrículas\")\n",
        "    print(\"(6) Sair\")\n",
        "    opcao = input(\"Informe a ação desejada: \")\n",
        "    return opcao\n",
        "\n",
        "def menu_operacoes(categoria):\n",
        "    print(f\"\\n***** [{categoria.upper()}] MENU DE OPERAÇÕES *****\")\n",
        "    print(\"(1) Incluir.\")\n",
        "    print(\"(2) Listar.\")\n",
        "    print(\"(3) Atualizar.\")\n",
        "    print(\"(4) Excluir.\")\n",
        "    print(\"(9) Voltar ao menu principal.\")\n",
        "    opcao = input(\"Informe a ação desejada: \")\n",
        "    return opcao\n",
        "\n",
        "def operacoes_estudantes():\n",
        "    while True:\n",
        "        opcao = menu_operacoes(\"Estudantes\")\n",
        "\n",
        "        if opcao == \"1\":  # Incluir\n",
        "            print(\"\\n===== INCLUSÃO =====\")\n",
        "            nome = input(\"Informe o nome do estudante: \").strip()\n",
        "            if nome:\n",
        "                estudantes.append(nome)\n",
        "                print(f\"Estudante '{nome}' incluído com sucesso.\")\n",
        "            else:\n",
        "                print(\"Nome inválido. Tente novamente.\")\n",
        "            input(\"Pressione ENTER para continuar.\")\n",
        "\n",
        "        elif opcao == \"2\":  # Listar\n",
        "            print(\"\\n===== LISTAGEM =====\")\n",
        "            if estudantes:\n",
        "                for i, estudante in enumerate(estudantes, start=1):\n",
        "                    print(f\"- {estudante}\")\n",
        "            else:\n",
        "                print(\"Não há estudantes cadastrados.\")\n",
        "            input(\"Pressione ENTER para continuar.\")\n",
        "\n",
        "        elif opcao == \"3\" or opcao == \"4\":  # Atualizar ou Excluir\n",
        "            print(\"\\n===== EM DESENVOLVIMENTO =====\")\n",
        "            input(\"Pressione ENTER para continuar.\")\n",
        "\n",
        "        elif opcao == \"9\":  # Voltar ao menu principal\n",
        "            print(\"\\nVoltando ao menu principal...\")\n",
        "            break\n",
        "\n",
        "        else:\n",
        "            print(\"Opção inválida. Tente novamente.\")\n",
        "            input(\"Pressione ENTER para continuar.\")\n",
        "\n",
        "def operacoes_categoria_em_desenvolvimento(categoria):\n",
        "    print(f\"\\n***** [{categoria.upper()}] *****\")\n",
        "    print(\"===== EM DESENVOLVIMENTO =====\")\n",
        "    input(\"Pressione ENTER para voltar ao menu principal.\")\n",
        "\n",
        "def main():\n",
        "    while True:\n",
        "        opcao = menu_principal()\n",
        "\n",
        "        if opcao == \"1\":\n",
        "            operacoes_estudantes()\n",
        "        elif opcao in [\"2\", \"3\", \"4\", \"5\"]:  # Outras categorias\n",
        "            categorias = {\n",
        "                \"2\": \"Disciplinas\",\n",
        "                \"3\": \"Professores\",\n",
        "                \"4\": \"Turmas\",\n",
        "                \"5\": \"Matrículas\"\n",
        "            }\n",
        "            operacoes_categoria_em_desenvolvimento(categorias[opcao])\n",
        "        elif opcao == \"6\":\n",
        "            print(\"Saindo do sistema...\")\n",
        "            break\n",
        "        else:\n",
        "            print(\"Opção inválida. Tente novamente.\")\n",
        "            input(\"Pressione ENTER para continuar.\")\n",
        "\n",
        "if __name__ == \"__main__\":\n",
        "    main()\n"
      ],
      "metadata": {
        "id": "5KIZBpIQsDUg"
      },
      "execution_count": null,
      "outputs": []
    }
  ]
}